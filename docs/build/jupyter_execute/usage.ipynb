{
 "cells": [
  {
   "cell_type": "code",
   "execution_count": 1,
   "metadata": {},
   "outputs": [
    {
     "name": "stdout",
     "output_type": "stream",
     "text": [
      "usage: assumptions [-h] [-l LOG_TYPE] [-o OUTFILE] [-p PATH] [-e EXTENSION]\r\n",
      "                   [-t TEMPLATE]\r\n",
      "\r\n",
      "Generate an assumptions and caveats log from code comments.\r\n",
      "\r\n",
      "optional arguments:\r\n",
      "  -h, --help            show this help message and exit\r\n",
      "  -l LOG_TYPE, --log-type LOG_TYPE\r\n",
      "                        type of log to produce. Default is the assumptions and\r\n",
      "                        caveats log.\r\n",
      "  -o OUTFILE, --outfile OUTFILE\r\n",
      "                        output Markdown (`.md`) file path. Default is\r\n",
      "                        'LOG_TYPE.md'.\r\n",
      "  -p PATH, --path PATH  relative path to directory to seach for assumptions\r\n",
      "                        and caveats under. Default is current directory.\r\n",
      "  -e EXTENSION, --extension EXTENSION\r\n",
      "                        file extension to search for. Searches all file\r\n",
      "                        extensions by default.\r\n",
      "  -t TEMPLATE, --template TEMPLATE\r\n",
      "                        path to custom log template. Overrides template from\r\n",
      "                        log argument.\r\n",
      "\r\n",
      "Your assumptions and caveats documented.\r\n",
      "\n"
     ]
    }
   ],
   "source": [
    "import subprocess\n",
    "print(subprocess.run([\"assumptions\", \"-h\"], capture_output=True).stdout.decode())"
   ]
  }
 ],
 "metadata": {
  "kernelspec": {
   "display_name": "Python 3",
   "language": "python",
   "name": "python3"
  },
  "language_info": {
   "codemirror_mode": {
    "name": "ipython",
    "version": 3
   },
   "file_extension": ".py",
   "mimetype": "text/x-python",
   "name": "python",
   "nbconvert_exporter": "python",
   "pygments_lexer": "ipython3",
   "version": "3.7.9"
  }
 },
 "nbformat": 4,
 "nbformat_minor": 4
}